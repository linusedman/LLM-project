{
 "cells": [
  {
   "cell_type": "code",
   "execution_count": 1,
   "id": "f68feff0",
   "metadata": {},
   "outputs": [
    {
     "data": {
      "text/plain": [
       "True"
      ]
     },
     "execution_count": 1,
     "metadata": {},
     "output_type": "execute_result"
    }
   ],
   "source": [
    "import os\n",
    "from dotenv import load_dotenv\n",
    "load_dotenv()"
   ]
  },
  {
   "cell_type": "markdown",
   "id": "7cf30026",
   "metadata": {},
   "source": [
    "Load API key from .env file"
   ]
  },
  {
   "cell_type": "code",
   "execution_count": 2,
   "id": "b5b7939d",
   "metadata": {},
   "outputs": [],
   "source": [
    "KEY = os.environ.get(\"GEMINI_API_KEY\")"
   ]
  },
  {
   "cell_type": "code",
   "execution_count": 4,
   "id": "673183c0",
   "metadata": {},
   "outputs": [],
   "source": [
    "from google import genai\n",
    "from google.genai import types\n"
   ]
  },
  {
   "cell_type": "markdown",
   "id": "2bd2c76d",
   "metadata": {},
   "source": [
    "Load vector database"
   ]
  },
  {
   "cell_type": "code",
   "execution_count": 5,
   "id": "444ea841",
   "metadata": {},
   "outputs": [],
   "source": [
    "from langchain_community.vectorstores import FAISS  # \"db\" to store and retrieve embeddings\n",
    "from langchain_huggingface import HuggingFaceEmbeddings"
   ]
  },
  {
   "cell_type": "code",
   "execution_count": 6,
   "id": "a1165497",
   "metadata": {},
   "outputs": [],
   "source": [
    "embeddings = HuggingFaceEmbeddings(model_name=\"all-MiniLM-L6-v2\")"
   ]
  },
  {
   "cell_type": "code",
   "execution_count": 10,
   "id": "b39cb33e",
   "metadata": {},
   "outputs": [],
   "source": [
    "db = FAISS.load_local(\"faiss_index_all\", embeddings, allow_dangerous_deserialization=True)  # Load the vector database"
   ]
  },
  {
   "cell_type": "code",
   "execution_count": 12,
   "id": "b1d56c6c",
   "metadata": {},
   "outputs": [
    {
     "name": "stdout",
     "output_type": "stream",
     "text": [
      "”6. \n",
      "Genom  undantag  från  artikel  5  får  2,2-bis(4-hydroxifenyl)propan  (bisfenol  A)  (CAS-nr  80-05-7)  och  andra\n",
      "A) \n",
      "\n",
      "Struktur för bisfenol\n",
      "\n",
      "B) \n",
      "\n",
      "Struktur för bisfenolderivat\n",
      "bisfenol-A-diglycidyleter  (CAS-nr  1675-54-3),  och  följaktligen  utgöra  en  del  av  dessa  ämnens  kemiska  struktur,\n",
      "innehåller bisfenol A, en annan farlig bisfenol eller ett farligt bisfenolderivat, eller  inte avger dessa ämnen i livsmedel över\n",
      "Ämnet  2,2-bis(4-hydroxifenyl)propan \n",
      "(CAS-nr  0000080-05-7),  vanligen  kallat  bisfenol  A,  används  vid\n",
      "bisfenol: ämne som består av två hydroxifenylgrupper som är sammankopplade med en atom, i enlighet med struktur\n",
      "Godkännande för användning av andra farliga bisfenoler än bisfenol A eller av farliga bisfenolderivat vid\n",
      "Förbud mot användning av andra farliga bisfenoler än bisfenol A eller av farliga bisfenolderivat\n",
      "\n",
      "Artikel 5\n",
      "2,4-D\n",
      "\n",
      "2-Fenylfenol\n",
      "\n",
      "Abamektin\n",
      "\n",
      "Acefat\n",
      "\n",
      "Acetamiprid\n",
      "\n",
      "Aklonifen\n",
      "\n",
      "Akrinatrin\n",
      "\n",
      "Aldikarb\n",
      "\n",
      "Aldrin och dieldrin\n",
      "\n",
      "Ametoktradin\n",
      "\n",
      "Azinfosmetyl\n",
      "\n",
      "Azoxistrobin\n",
      "\n",
      "Bifentrin\n",
      "\n",
      "Bifenyl\n",
      "\n",
      "Bitertanol\n",
      "\n",
      "Boskalid\n",
      "nyl)propan bis(2,3-epoxipropyl)eter (”BADGE”, dvs. bisfe-\n",
      "nol-A diglycidyleter), bis(hydroxifenyl)metan bis(2,3-epo-\n",
      "xipropyl)etrar (”BFDGE” dvs. bisfenol-F-diglycidyleter) och\n"
     ]
    }
   ],
   "source": [
    "query = \"Bisfenol A\"\n",
    "results = db.similarity_search(query, k=10)\n",
    "\n",
    "for r in results:\n",
    "    print(r.page_content)"
   ]
  },
  {
   "cell_type": "code",
   "execution_count": null,
   "id": "58020036",
   "metadata": {},
   "outputs": [],
   "source": []
  }
 ],
 "metadata": {
  "kernelspec": {
   "display_name": ".venv",
   "language": "python",
   "name": "python3"
  },
  "language_info": {
   "codemirror_mode": {
    "name": "ipython",
    "version": 3
   },
   "file_extension": ".py",
   "mimetype": "text/x-python",
   "name": "python",
   "nbconvert_exporter": "python",
   "pygments_lexer": "ipython3",
   "version": "3.13.0"
  }
 },
 "nbformat": 4,
 "nbformat_minor": 5
}
