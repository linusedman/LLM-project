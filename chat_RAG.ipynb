{
 "cells": [
  {
   "cell_type": "code",
   "execution_count": 1,
   "id": "f68feff0",
   "metadata": {},
   "outputs": [
    {
     "data": {
      "text/plain": [
       "True"
      ]
     },
     "execution_count": 1,
     "metadata": {},
     "output_type": "execute_result"
    }
   ],
   "source": [
    "import os\n",
    "from dotenv import load_dotenv\n",
    "load_dotenv()"
   ]
  },
  {
   "cell_type": "markdown",
   "id": "7cf30026",
   "metadata": {},
   "source": [
    "Load API key from .env file"
   ]
  },
  {
   "cell_type": "code",
   "execution_count": 2,
   "id": "b5b7939d",
   "metadata": {},
   "outputs": [],
   "source": [
    "KEY = os.environ.get(\"GEMINI_API_KEY\")"
   ]
  },
  {
   "cell_type": "code",
   "execution_count": 3,
   "id": "673183c0",
   "metadata": {},
   "outputs": [],
   "source": [
    "from google import genai\n",
    "from google.genai import types"
   ]
  },
  {
   "cell_type": "code",
   "execution_count": 4,
   "id": "c6e9b907",
   "metadata": {},
   "outputs": [],
   "source": [
    "client = genai.Client(api_key=KEY)  # here you can also pass the api_key directly using os.environ['GEMINI_API_KEY']\n",
    "\n",
    "default_model = \"gemini-2.5-flash\""
   ]
  },
  {
   "cell_type": "markdown",
   "id": "2bd2c76d",
   "metadata": {},
   "source": [
    "Load vector database"
   ]
  },
  {
   "cell_type": "code",
   "execution_count": 5,
   "id": "444ea841",
   "metadata": {},
   "outputs": [],
   "source": [
    "from langchain_community.vectorstores import FAISS  # \"db\" to store and retrieve embeddings\n",
    "from langchain_huggingface import HuggingFaceEmbeddings"
   ]
  },
  {
   "cell_type": "code",
   "execution_count": 6,
   "id": "a1165497",
   "metadata": {},
   "outputs": [],
   "source": [
    "embeddings = HuggingFaceEmbeddings(model_name=\"all-MiniLM-L6-v2\")"
   ]
  },
  {
   "cell_type": "code",
   "execution_count": 7,
   "id": "b39cb33e",
   "metadata": {},
   "outputs": [],
   "source": [
    "db = FAISS.load_local(\"faiss_index_all\", embeddings, allow_dangerous_deserialization=True)  # Load the vector database"
   ]
  },
  {
   "cell_type": "markdown",
   "id": "794079d5",
   "metadata": {},
   "source": [
    "GUI"
   ]
  },
  {
   "cell_type": "code",
   "execution_count": 8,
   "id": "a6a4e50d",
   "metadata": {},
   "outputs": [],
   "source": [
    "import gradio as gr"
   ]
  },
  {
   "cell_type": "code",
   "execution_count": 17,
   "id": "58020036",
   "metadata": {},
   "outputs": [
    {
     "name": "stderr",
     "output_type": "stream",
     "text": [
      "/Users/linus/Desktop/LLM/project/LLM-project/.venv/lib/python3.13/site-packages/gradio/chat_interface.py:347: UserWarning: The 'tuples' format for chatbot messages is deprecated and will be removed in a future version of Gradio. Please set type='messages' instead, which uses openai-style 'role' and 'content' keys.\n",
      "  self.chatbot = Chatbot(\n"
     ]
    },
    {
     "name": "stdout",
     "output_type": "stream",
     "text": [
      "* Running on local URL:  http://127.0.0.1:7868\n",
      "* To create a public link, set `share=True` in `launch()`.\n"
     ]
    },
    {
     "data": {
      "text/html": [
       "<div><iframe src=\"http://127.0.0.1:7868/\" width=\"100%\" height=\"500\" allow=\"autoplay; camera; microphone; clipboard-read; clipboard-write;\" frameborder=\"0\" allowfullscreen></iframe></div>"
      ],
      "text/plain": [
       "<IPython.core.display.HTML object>"
      ]
     },
     "metadata": {},
     "output_type": "display_data"
    },
    {
     "data": {
      "text/plain": []
     },
     "execution_count": 17,
     "metadata": {},
     "output_type": "execute_result"
    }
   ],
   "source": [
    "def response_stream(inputs, history):\n",
    "    user_text = \"\"\n",
    "    user_image = None\n",
    "        \n",
    "    if type(inputs) == dict:\n",
    "        user_text = inputs.get(\"text\", \"\").lower()\n",
    "        files = inputs.get(\"files\", [])\n",
    "        if files:  # only uses the first uploaded image\n",
    "            user_image = Image.open(files[0])\n",
    "    else:\n",
    "        user_text = inputs.lower()\n",
    "    \n",
    "    # special greetings from example file\n",
    "    if \"hej\" in user_text and not \"hejdå\":\n",
    "        yield \"Hej jag är din livsmedels expert. Vad kan jag hjälpa dig med?\"\n",
    "        return\n",
    "    elif \"hejdå\" in user_text:\n",
    "        yield \"Hejdå! Ha en fortsatt trevlig dag :)\"\n",
    "        return\n",
    "\n",
    "    history_text = \"Fortsätt konversationen.\\n\\n\"\n",
    "    for user_msg, bot_msg in history:\n",
    "        history_text += f\"Använadre: {user_msg}\\nAssistent: {bot_msg}\\n\"\n",
    "\n",
    "    # Add context from RAG\n",
    "    context = db.similarity_search(user_text, k=10)\n",
    "    history_text += \"\\n\\n\" + \"Kontext:\\n\" + \"\".join([chunk.page_content for chunk in context]) + \"\\n\"\n",
    "    print(history_text)\n",
    "\n",
    "    history_text += f\"Använadre: {user_text}\\nAssistent:\"\n",
    "    \n",
    "    contents = []\n",
    "    if user_image is not None:\n",
    "        contents.append(user_image)\n",
    "\n",
    "    contents.append(history_text)\n",
    "\n",
    "    try:\n",
    "        gemini_stream = client.models.generate_content_stream(\n",
    "            model=default_model,\n",
    "            contents=contents,\n",
    "            config=types.GenerateContentConfig(\n",
    "                temperature=0.0,\n",
    "                max_output_tokens=2000,\n",
    "                system_instruction=\"Du är en livsmedels expert med fokus på\\\n",
    "                innehållförteckningar. besvara användarens frågor enligt kontexten\",\n",
    "                thinking_config=types.ThinkingConfig(thinking_budget=0),\n",
    "                safety_settings=[\n",
    "                    types.SafetySetting(\n",
    "                        category=\"HARM_CATEGORY_DANGEROUS_CONTENT\",\n",
    "                        threshold=\"BLOCK_NONE\"\n",
    "                    )\n",
    "                ]\n",
    "            )\n",
    "        )\n",
    "\n",
    "        # Yield chunks for live updates\n",
    "        partial_response = \"\"\n",
    "        for chunk in gemini_stream:\n",
    "            if chunk.text:\n",
    "                partial_response += chunk.text\n",
    "                yield partial_response\n",
    "                \n",
    "\n",
    "    except Exception as e:\n",
    "        # Handle streaming failure without crashing the chatbot\n",
    "        yield \"Ursäkta, kan du repetera dig snälla :)\"\n",
    "        return\n",
    "    \n",
    "with gr.Blocks(fill_height=False) as demo:\n",
    "    chatbot = gr.ChatInterface(\n",
    "        fn=response_stream,\n",
    "        multimodal=True,\n",
    "        title=\"Din livsmedelsexpert\",\n",
    "    )\n",
    "\n",
    "# From lab\n",
    "# This part closes the demo server if it is already running (which\n",
    "# happens easily in notebooks) and prevents you from opening multiple\n",
    "# servers at the same time.\n",
    "if \"demo\" in locals() and demo.is_running:\n",
    "    demo.close()\n",
    "#----------------------------------------------------------------------------------\n",
    "demo.launch()"
   ]
  },
  {
   "cell_type": "code",
   "execution_count": 18,
   "id": "7d0537e5",
   "metadata": {},
   "outputs": [
    {
     "name": "stdout",
     "output_type": "stream",
     "text": [
      "Closing server running on port: 7868\n"
     ]
    }
   ],
   "source": [
    "if \"demo\" in locals() and demo.is_running:\n",
    "    demo.close()"
   ]
  }
 ],
 "metadata": {
  "kernelspec": {
   "display_name": ".venv",
   "language": "python",
   "name": "python3"
  },
  "language_info": {
   "codemirror_mode": {
    "name": "ipython",
    "version": 3
   },
   "file_extension": ".py",
   "mimetype": "text/x-python",
   "name": "python",
   "nbconvert_exporter": "python",
   "pygments_lexer": "ipython3",
   "version": "3.13.7"
  }
 },
 "nbformat": 4,
 "nbformat_minor": 5
}
