{
 "cells": [
  {
   "cell_type": "code",
   "execution_count": 1,
   "id": "54f352f7",
   "metadata": {},
   "outputs": [],
   "source": [
    "import os"
   ]
  },
  {
   "cell_type": "markdown",
   "id": "aedca16d",
   "metadata": {},
   "source": [
    "Needed to construct database for RAG"
   ]
  },
  {
   "cell_type": "code",
   "execution_count": 2,
   "id": "83593a15",
   "metadata": {},
   "outputs": [],
   "source": [
    "from langchain_community.vectorstores import FAISS  # \"db\" to store and retrieve embeddings\n",
    "from langchain_core.documents import Document\n",
    "from langchain.text_splitter import RecursiveCharacterTextSplitter  # split long documents\n",
    "from pdfminer.high_level import extract_text  # extract text from pdfs\n",
    "from langchain_huggingface import HuggingFaceEmbeddings\n",
    "from pathlib import Path\n",
    "import logging"
   ]
  },
  {
   "cell_type": "code",
   "execution_count": 3,
   "id": "16ffd203",
   "metadata": {},
   "outputs": [],
   "source": [
    "dir_path = Path(\"./scraped_pdfs\")"
   ]
  },
  {
   "cell_type": "code",
   "execution_count": 4,
   "id": "57c5a8c8",
   "metadata": {},
   "outputs": [],
   "source": [
    "# Silence pdfminer logs below ERROR\n",
    "logging.getLogger(\"pdfminer\").setLevel(logging.ERROR)"
   ]
  },
  {
   "cell_type": "code",
   "execution_count": 5,
   "id": "92c863ce",
   "metadata": {},
   "outputs": [
    {
     "name": "stdout",
     "output_type": "stream",
     "text": [
      "Skipping slvfs-2000-46-kons.pdf\n",
      "Skipping slvfs-1998-8.pdf\n",
      "Skipping slvfs-2000-22.pdf\n",
      "Skipping slvfs-2000-16-andr-1997-27.pdf\n",
      "Skipping slvfs-1998-38-andr-1997-27.pdf\n",
      "Skipping slvfs-1980-06-kons.pdf\n",
      "Skipping slvfs-1995-17.pdf\n",
      "Skipping slvfs-1995-19-andr-1980-6-inkl-bil3-skannad.pdf\n",
      "Skipping slvfs-2000-29-andr-1997-27.pdf\n",
      "Skipping slvfs-2000-46.pdf\n",
      "Skipping slvfs-1998-08-kons.pdf\n",
      "Skipping slvfs-1997-27-kons-2016-9_2.pdf\n",
      "Skipping slvfs-1995-18-bil-1-3.pdf\n",
      "Skipping slvfs-1999-24-andr-1998-8.pdf\n",
      "Skipping slvfs-1997-27.pdf\n",
      "Skipping slvfs-1980-04-kons.pdf\n",
      "Skipping slvfs-1980-05-kons.pdf\n",
      "Skipping slvfs-1993-20-kons.pdf\n",
      "Skipping slvfs-1998-21-andr-1998-8.pdf\n",
      "Skipping slvfs-1995-18.pdf\n",
      "Skipping slvfs-1993-20.pdf\n",
      "Skipping slvfs-1980-5_inskannad.pdf\n",
      "Skipping slvfs-1080-4-inskannad.pdf\n",
      "Skipping slvfs-1999-5-andr-1998-8.pdf\n",
      "Skipping slvfs-1980-6_inskannad.pdf\n"
     ]
    }
   ],
   "source": [
    "splitter = RecursiveCharacterTextSplitter(chunk_size=200, chunk_overlap=50)\n",
    "doc_lst = []\n",
    "# Extract text\n",
    "#text = extract_text(DOC_PATH, page_numbers=[0])\n",
    "for i, file in enumerate(dir_path.iterdir()):\n",
    "    # if i >= 20:\n",
    "    #     break\n",
    "\n",
    "    if file.name.endswith(\".pdf\") and not file.name.startswith(\"slvfs\"):\n",
    "        text = extract_text(file)\n",
    "\n",
    "        doc = Document(page_content=text, metadata={\"source\": file.name})\n",
    "        chunks = splitter.split_documents([doc])\n",
    "        doc_lst.extend(chunks) # avoid nested lists\n",
    "\n",
    "    else:\n",
    "        print(f\"Skipping {file.name}\")"
   ]
  },
  {
   "cell_type": "code",
   "execution_count": 6,
   "id": "3fb5a8d1",
   "metadata": {},
   "outputs": [
    {
     "name": "stdout",
     "output_type": "stream",
     "text": [
      "195876\n"
     ]
    }
   ],
   "source": [
    "print(len(doc_lst)) # number of chunks"
   ]
  },
  {
   "cell_type": "code",
   "execution_count": 7,
   "id": "843e9752",
   "metadata": {},
   "outputs": [],
   "source": [
    "# Local embedding model\n",
    "embeddings = HuggingFaceEmbeddings(model_name=\"all-MiniLM-L6-v2\")"
   ]
  },
  {
   "cell_type": "code",
   "execution_count": 8,
   "id": "507175c1",
   "metadata": {},
   "outputs": [],
   "source": [
    "# Database\n",
    "db = FAISS.from_documents(doc_lst, embeddings)"
   ]
  },
  {
   "cell_type": "code",
   "execution_count": 9,
   "id": "6adbc8fe",
   "metadata": {},
   "outputs": [],
   "source": [
    "# Save the database\n",
    "db.save_local(\"faiss_index_all\")"
   ]
  },
  {
   "cell_type": "code",
   "execution_count": 10,
   "id": "44c568fa",
   "metadata": {},
   "outputs": [
    {
     "name": "stdout",
     "output_type": "stream",
     "text": [
      "”6. \n",
      "Genom  undantag  från  artikel  5  får  2,2-bis(4-hydroxifenyl)propan  (bisfenol  A)  (CAS-nr  80-05-7)  och  andra\n",
      "A) \n",
      "\n",
      "Struktur för bisfenol\n",
      "\n",
      "B) \n",
      "\n",
      "Struktur för bisfenolderivat\n",
      "bisfenol-A-diglycidyleter  (CAS-nr  1675-54-3),  och  följaktligen  utgöra  en  del  av  dessa  ämnens  kemiska  struktur,\n",
      "innehåller bisfenol A, en annan farlig bisfenol eller ett farligt bisfenolderivat, eller  inte avger dessa ämnen i livsmedel över\n",
      "Ämnet  2,2-bis(4-hydroxifenyl)propan \n",
      "(CAS-nr  0000080-05-7),  vanligen  kallat  bisfenol  A,  används  vid\n",
      "bisfenol: ämne som består av två hydroxifenylgrupper som är sammankopplade med en atom, i enlighet med struktur\n",
      "Godkännande för användning av andra farliga bisfenoler än bisfenol A eller av farliga bisfenolderivat vid\n",
      "Förbud mot användning av andra farliga bisfenoler än bisfenol A eller av farliga bisfenolderivat\n",
      "\n",
      "Artikel 5\n",
      "2,4-D\n",
      "\n",
      "2-Fenylfenol\n",
      "\n",
      "Abamektin\n",
      "\n",
      "Acefat\n",
      "\n",
      "Acetamiprid\n",
      "\n",
      "Aklonifen\n",
      "\n",
      "Akrinatrin\n",
      "\n",
      "Aldikarb\n",
      "\n",
      "Aldrin och dieldrin\n",
      "\n",
      "Ametoktradin\n",
      "\n",
      "Azinfosmetyl\n",
      "\n",
      "Azoxistrobin\n",
      "\n",
      "Bifentrin\n",
      "\n",
      "Bifenyl\n",
      "\n",
      "Bitertanol\n",
      "\n",
      "Boskalid\n",
      "nyl)propan bis(2,3-epoxipropyl)eter (”BADGE”, dvs. bisfe-\n",
      "nol-A diglycidyleter), bis(hydroxifenyl)metan bis(2,3-epo-\n",
      "xipropyl)etrar (”BFDGE” dvs. bisfenol-F-diglycidyleter) och\n"
     ]
    }
   ],
   "source": [
    "# Given a query, retrieve the most relevant chunk(s) and appropriately prompt your LLM\n",
    "\n",
    "query = \"Bisfenol A\"\n",
    "results = db.similarity_search(query, k=10)\n",
    "\n",
    "for r in results:\n",
    "    print(r.page_content)"
   ]
  }
 ],
 "metadata": {
  "kernelspec": {
   "display_name": ".venv",
   "language": "python",
   "name": "python3"
  },
  "language_info": {
   "codemirror_mode": {
    "name": "ipython",
    "version": 3
   },
   "file_extension": ".py",
   "mimetype": "text/x-python",
   "name": "python",
   "nbconvert_exporter": "python",
   "pygments_lexer": "ipython3",
   "version": "3.13.0"
  }
 },
 "nbformat": 4,
 "nbformat_minor": 5
}
