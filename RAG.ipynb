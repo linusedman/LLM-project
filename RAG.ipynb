{
 "cells": [
  {
   "cell_type": "code",
   "execution_count": 1,
   "id": "54f352f7",
   "metadata": {},
   "outputs": [
    {
     "data": {
      "text/plain": [
       "True"
      ]
     },
     "execution_count": 1,
     "metadata": {},
     "output_type": "execute_result"
    }
   ],
   "source": [
    "import os\n",
    "from dotenv import load_dotenv\n",
    "load_dotenv()"
   ]
  },
  {
   "cell_type": "markdown",
   "id": "01fe4fb0",
   "metadata": {},
   "source": [
    "Load API key from .env file"
   ]
  },
  {
   "cell_type": "code",
   "execution_count": 2,
   "id": "abb85c40",
   "metadata": {},
   "outputs": [],
   "source": [
    "KEY = os.environ.get(\"GEMINI_API_KEY\")"
   ]
  },
  {
   "cell_type": "markdown",
   "id": "0794f252",
   "metadata": {},
   "source": [
    "Gemini"
   ]
  },
  {
   "cell_type": "code",
   "execution_count": 3,
   "id": "b649f33e",
   "metadata": {},
   "outputs": [],
   "source": [
    "from google import genai\n",
    "from google.genai import types"
   ]
  },
  {
   "cell_type": "code",
   "execution_count": 4,
   "id": "c32ca9b3",
   "metadata": {},
   "outputs": [],
   "source": [
    "# The client gets the API key from the environment variable `GEMINI_API_KEY`.\n",
    "client = genai.Client(api_key=KEY)  # here you can also pass the api_key directly using os.environ['GEMINI_API_KEY']\n",
    "\n",
    "default_model = \"gemini-2.5-flash\""
   ]
  },
  {
   "cell_type": "code",
   "execution_count": 5,
   "id": "e34ecb81",
   "metadata": {},
   "outputs": [
    {
     "name": "stdout",
     "output_type": "stream",
     "text": [
      "Cat photos are an internet phenomenon and a cultural touchstone. They are **pictures or videos of domestic felines**, often engaged in:\n",
      "\n",
      "* **Typical cat behaviors:** Sleeping in strange positions, grooming, eating, looking out a window.\n",
      "*\n"
     ]
    }
   ],
   "source": [
    "response = client.models.generate_content(\n",
    "    model=default_model,\n",
    "    contents=\"Explain cat photos\",\n",
    "    config=types.GenerateContentConfig(\n",
    "        max_output_tokens=50,\n",
    "        thinking_config=types.ThinkingConfig(thinking_budget=0) # Disables thinking\n",
    "    ),\n",
    ")\n",
    "print(response.text)"
   ]
  },
  {
   "cell_type": "markdown",
   "id": "aedca16d",
   "metadata": {},
   "source": [
    "RAG"
   ]
  },
  {
   "cell_type": "code",
   "execution_count": 6,
   "id": "83593a15",
   "metadata": {},
   "outputs": [],
   "source": [
    "from langchain_google_genai import GoogleGenerativeAIEmbeddings  # get embeddings from Gemini\n",
    "from langchain_community.vectorstores import FAISS  # \"db\" to store and retrieve embeddings\n",
    "from langchain_core.documents import Document\n",
    "from langchain.text_splitter import RecursiveCharacterTextSplitter  # split long documents\n",
    "from pdfminer.high_level import extract_text  # extract text from pdfs\n",
    "from langchain_huggingface import HuggingFaceEmbeddings"
   ]
  },
  {
   "cell_type": "code",
   "execution_count": 10,
   "id": "16ffd203",
   "metadata": {},
   "outputs": [],
   "source": [
    "DOC_PATH = \"./scraped_pdfs/32018R0213.pdf\""
   ]
  },
  {
   "cell_type": "code",
   "execution_count": 11,
   "id": "174730ce",
   "metadata": {},
   "outputs": [
    {
     "name": "stdout",
     "output_type": "stream",
     "text": [
      "L  41/6 \n",
      "\n",
      "SV     \n",
      "\n",
      "Europeiska unionens  officiella  tidning \n",
      "\n",
      "14.2.2018 \n",
      "\n",
      "KOMMISSIONENS FÖRORDNING  (EU)  2018/213 \n",
      "\n",
      "av  den 12 februari  2018 \n",
      "\n",
      "om  användning  av  bisfenol  A  i  lack  och  ytskikt  avsedda  att  komma  i  kontakt  med  livsmedel  och \n",
      "om  ändring  av  förordning  (EU)  nr  10/2011  vad  gäller  användningen  av  det  ämnet  i  plastmaterial \n",
      "avsedda att komma i  kontakt  med livsmedel \n",
      "\n",
      "(Text  av betydelse för EES) \n",
      "\n",
      "EUROPEISKA  KOMMISSIONEN  HAR  ANTAGIT  DENNA FÖRORDNING \n",
      "\n",
      "med  beaktande av fördraget om Europeiska unionens  funktionssätt, \n",
      "\n",
      "med  beaktande  av  Europaparlamentets  och  rådets  förordning  (EG)  nr  1935/2004  av  den  27  oktober  2004  om  material \n",
      "och  produkter  avsedda  att  komma  i  kontakt  med  livsmedel  och  om  upphävande  av  direktiven  80/590/EEG  och \n",
      "89/109/EEG  (1),  särskilt  artikel  5.1  d, e, h,  i och  j,  och \n",
      "\n",
      "av följande  skäl: \n",
      "\n",
      "(1)  \n",
      "\n",
      "(2)  \n",
      "\n",
      "(3)  \n",
      "\n",
      "Ämnet  2,2-bis(4-hydroxifenyl)propan \n",
      "(CAS-nr  0000080-05-7),  vanligen  kallat  bisfenol  A,  används  vid \n",
      "tillverkning  av  vissa  material  och  produkter  avsedda  att  komma  i  kontakt  med  livsmedel,  till  exempel  polykarbo­\n",
      "natplast  och  epoxihartser  som  används  i  lack  och  ytskikt.  Bisfenol  A  kan  migrera  till  livsmedel  från  material  eller \n",
      "produkter  som  de  kommer  i  kontakt  med,  vilket  leder  till  att  konsumenter  av  dessa  livsmedel  exponeras  för \n",
      "bisfenol  A. \n",
      "\n",
      "Användningen  av  bisfenol  A  som  monomer  vid  tillverkning  av  material  och  produkter  av  plast  är  godkänd \n",
      "genom  kommissionens  förordning  (EU)  nr  10/2011  (2).  Godkännandet  är  förenat  med  ett  gränsvärde  för  specifik \n",
      "migration  på  0,6  mg  bisfenol  A  per  kg  livsmedel  (mg/kg)  baserat  på  en  föregående  utvärdering  av  vetenskapliga \n",
      "livsmedelskommittén  (3).  Europeiska  myndigheten  för  livsmedelssäkerhet  (nedan  kallad  myndigheten)  har  granskat \n",
      "de  vetenskapliga  uppgifterna  och  uppdaterade  sitt  yttrande  om  bisfenol  A  2006  (4),  2008  (5),  2010  (6)  och \n",
      "2011  (7).  I  enlighet  med  försiktighetsprincipen  gäller  ett  förbud  mot  användning  av  bisfenol  A vid  tillverkning  av \n",
      "nappflaskor av polykarbonat  för  spädbarn. \n",
      "\n",
      "av \n",
      "\n",
      "exponeringen  via  kosten  mot  bakgrund \n",
      "\n",
      "Efter  offentliggörandet  av  myndighetens  vetenskapliga  yttrande  om  bisfenol  A  2011  konstaterade  myndigheten \n",
      "att  dess  exponeringsbedömning  i  2006  års  yttrande  behövde  uppdateras  mot  bakgrund  av  nya  data  och  att \n",
      "betydelsen \n",
      "exponeringsvägar  också  bör \n",
      "undersökas.  Myndigheten  beslutade  att  genomföra  en  fullständig  omprövning  av  bisfenol  A  utifrån  de  senaste \n",
      "vetenskapliga  rönen.  Under  2012  bad  myndigheten,  i  enlighet  med  artikel  29.1  b  i  Europaparlamentets  och \n",
      "rådets  förordning  (EG)  nr  178/2002  (8),  den  vetenskapliga  panelen  för  material  som  kommer  i  kontakt  med \n",
      "livsmedel  och  för  enzymer,  aromer  och  processhjälpmedel  (CEF)  att  avge  ett  vetenskapligt  yttrande  om  riskerna \n",
      "för  folkhälsan i  samband  med  förekomst  av bisfenol  A i livsmedel. \n",
      "\n",
      "andra \n",
      "\n",
      "av \n",
      "\n",
      "(4)  \n",
      "\n",
      "Efter  att  ha  granskat  tillgängliga  data  och  de  vetenskapliga  undersökningar  som  offentliggjordes  mellan  2006  och \n",
      "2012  samt  vissa  undersökningar  som  blev  tillgängliga  2013  antog  myndigheten  ett  yttrande  den  11  december \n",
      "2014  (9).  I  yttrandet  fastställde  myndigheten  förändringar  av  den  genomsnittliga  relativa  njurvikten  i  en \n",
      "undersökning  av  två  generationer  möss  som  det  kritiska  resultatmåttet,  och  beräknade  en  hälsobaserad \n",
      "\n",
      "(1) EUT L 338, 13.11.2004, s. 4. \n",
      "(2) Kommissionens förordning (EU)  nr 10/2011  av den 14  januari  2011 om material  och produkter av plast som är avsedda att komma \n",
      "\n",
      "i kontakt med livsmedel (EUT L 12, 15.1.2011, s. 1). \n",
      "\n",
      "(3) Opinion of the Scientific Committee on Food on Bisphenol A (SCF/CS/PM/3936 Final). \n",
      "(4) The EFSA Journal, nr 428, s. 1, 2006. \n",
      "(5) The EFSA Journal, nr 759, s. 1, 2008. \n",
      "(6) EFSA Journal, vol. 8(2010):9, artikelnr 1829. \n",
      "(7) EFSA Journal, vol. 9(2011):12, artikelnr 2475. \n",
      "(8) Europaparlamentets och rådets förordning (EG) nr 178/2002 av den 28 januari 2002 om allmänna principer och krav för livsmedelslag­\n",
      "stiftning, om inrättande av Europeiska myndigheten för livsmedelssäkerhet och om förfaranden i frågor som gäller livsmedelssäkerhet  \n",
      "(EGT L 31, 1.2.2002, s. 1). \n",
      "\n",
      "(9) EFSA Journal, vol. 13(2015):1, artikelnr 3978. \n",
      "\n",
      "\f\n"
     ]
    }
   ],
   "source": [
    "import logging\n",
    "# Silence pdfminer logs below ERROR\n",
    "logging.getLogger(\"pdfminer\").setLevel(logging.ERROR)\n",
    "\n",
    "# Extract text\n",
    "text = extract_text(DOC_PATH, page_numbers=[0])\n",
    "# text = extract_text(DOC_PATH)\n",
    "print(text)"
   ]
  },
  {
   "cell_type": "code",
   "execution_count": 12,
   "id": "f85b940f",
   "metadata": {},
   "outputs": [],
   "source": [
    "# Wrap as a Document\n",
    "doc = Document(page_content=text, metadata={\"source\": \"32018R0213.pdf\", \"page\": 1})"
   ]
  },
  {
   "cell_type": "code",
   "execution_count": 13,
   "id": "76800f92",
   "metadata": {},
   "outputs": [
    {
     "name": "stdout",
     "output_type": "stream",
     "text": [
      "Chunk 1: L  41/6 \n",
      "\n",
      "SV     \n",
      "\n",
      "Europeiska unionens  officiella  tidning ... | Metadata: {'source': '32018R0213.pdf', 'page': 1}\n",
      "Chunk 2: om  användning  av  bisfenol  A  i  lack  och  ytskikt  avse... | Metadata: {'source': '32018R0213.pdf', 'page': 1}\n",
      "Chunk 3: om  ändring  av  förordning  (EU)  nr  10/2011  vad  gäller ... | Metadata: {'source': '32018R0213.pdf', 'page': 1}\n",
      "Chunk 4: (Text  av betydelse för EES) \n",
      "\n",
      "EUROPEISKA  KOMMISSIONEN  HAR... | Metadata: {'source': '32018R0213.pdf', 'page': 1}\n",
      "Chunk 5: med  beaktande  av  Europaparlamentets  och  rådets  förordn... | Metadata: {'source': '32018R0213.pdf', 'page': 1}\n",
      "Chunk 6: och  produkter  avsedda  att  komma  i  kontakt  med  livsme... | Metadata: {'source': '32018R0213.pdf', 'page': 1}\n",
      "Chunk 7: av följande  skäl: \n",
      "\n",
      "(1)  \n",
      "\n",
      "(2)  \n",
      "\n",
      "(3)... | Metadata: {'source': '32018R0213.pdf', 'page': 1}\n",
      "Chunk 8: Ämnet  2,2-bis(4-hydroxifenyl)propan \n",
      "(CAS-nr  0000080-05-7)... | Metadata: {'source': '32018R0213.pdf', 'page': 1}\n",
      "Chunk 9: tillverkning  av  vissa  material  och  produkter  avsedda  ... | Metadata: {'source': '32018R0213.pdf', 'page': 1}\n",
      "Chunk 10: natplast  och  epoxihartser  som  används  i  lack  och  yts... | Metadata: {'source': '32018R0213.pdf', 'page': 1}\n",
      "Chunk 11: produkter  som  de  kommer  i  kontakt  med,  vilket  leder ... | Metadata: {'source': '32018R0213.pdf', 'page': 1}\n",
      "Chunk 12: Användningen  av  bisfenol  A  som  monomer  vid  tillverkni... | Metadata: {'source': '32018R0213.pdf', 'page': 1}\n",
      "Chunk 13: genom  kommissionens  förordning  (EU)  nr  10/2011  (2).  G... | Metadata: {'source': '32018R0213.pdf', 'page': 1}\n",
      "Chunk 14: migration  på  0,6  mg  bisfenol  A  per  kg  livsmedel  (mg... | Metadata: {'source': '32018R0213.pdf', 'page': 1}\n",
      "Chunk 15: livsmedelskommittén  (3).  Europeiska  myndigheten  för  liv... | Metadata: {'source': '32018R0213.pdf', 'page': 1}\n",
      "Chunk 16: de  vetenskapliga  uppgifterna  och  uppdaterade  sitt  yttr... | Metadata: {'source': '32018R0213.pdf', 'page': 1}\n",
      "Chunk 17: 2011  (7).  I  enlighet  med  försiktighetsprincipen  gäller... | Metadata: {'source': '32018R0213.pdf', 'page': 1}\n",
      "Chunk 18: av \n",
      "\n",
      "exponeringen  via  kosten  mot  bakgrund... | Metadata: {'source': '32018R0213.pdf', 'page': 1}\n",
      "Chunk 19: Efter  offentliggörandet  av  myndighetens  vetenskapliga  y... | Metadata: {'source': '32018R0213.pdf', 'page': 1}\n",
      "Chunk 20: att  dess  exponeringsbedömning  i  2006  års  yttrande  beh... | Metadata: {'source': '32018R0213.pdf', 'page': 1}\n",
      "Chunk 21: betydelsen \n",
      "exponeringsvägar  också  bör \n",
      "undersökas.  Myndi... | Metadata: {'source': '32018R0213.pdf', 'page': 1}\n",
      "Chunk 22: vetenskapliga  rönen.  Under  2012  bad  myndigheten,  i  en... | Metadata: {'source': '32018R0213.pdf', 'page': 1}\n",
      "Chunk 23: rådets  förordning  (EG)  nr  178/2002  (8),  den  vetenskap... | Metadata: {'source': '32018R0213.pdf', 'page': 1}\n",
      "Chunk 24: livsmedel  och  för  enzymer,  aromer  och  processhjälpmede... | Metadata: {'source': '32018R0213.pdf', 'page': 1}\n",
      "Chunk 25: andra \n",
      "\n",
      "av \n",
      "\n",
      "(4)... | Metadata: {'source': '32018R0213.pdf', 'page': 1}\n",
      "Chunk 26: Efter  att  ha  granskat  tillgängliga  data  och  de  veten... | Metadata: {'source': '32018R0213.pdf', 'page': 1}\n",
      "Chunk 27: 2012  samt  vissa  undersökningar  som  blev  tillgängliga  ... | Metadata: {'source': '32018R0213.pdf', 'page': 1}\n",
      "Chunk 28: 2014  (9).  I  yttrandet  fastställde  myndigheten  förändri... | Metadata: {'source': '32018R0213.pdf', 'page': 1}\n",
      "Chunk 29: undersökning  av  två  generationer  möss  som  det  kritisk... | Metadata: {'source': '32018R0213.pdf', 'page': 1}\n",
      "Chunk 30: (1) EUT L 338, 13.11.2004, s. 4. \n",
      "(2) Kommissionens förordni... | Metadata: {'source': '32018R0213.pdf', 'page': 1}\n",
      "Chunk 31: i kontakt med livsmedel (EUT L 12, 15.1.2011, s. 1).... | Metadata: {'source': '32018R0213.pdf', 'page': 1}\n",
      "Chunk 32: (3) Opinion of the Scientific Committee on Food on Bisphenol... | Metadata: {'source': '32018R0213.pdf', 'page': 1}\n",
      "Chunk 33: (5) The EFSA Journal, nr 759, s. 1, 2008. \n",
      "(6) EFSA Journal,... | Metadata: {'source': '32018R0213.pdf', 'page': 1}\n",
      "Chunk 34: (8) Europaparlamentets och rådets förordning (EG) nr 178/200... | Metadata: {'source': '32018R0213.pdf', 'page': 1}\n",
      "Chunk 35: stiftning, om inrättande av Europeiska myndigheten för livsm... | Metadata: {'source': '32018R0213.pdf', 'page': 1}\n",
      "Chunk 36: (9) EFSA Journal, vol. 13(2015):1, artikelnr 3978.... | Metadata: {'source': '32018R0213.pdf', 'page': 1}\n"
     ]
    }
   ],
   "source": [
    "# 2. Split the documents into small chunks\n",
    "\n",
    "splitter = RecursiveCharacterTextSplitter(chunk_size=200, chunk_overlap=50)\n",
    "docs = splitter.split_documents([doc])\n",
    "\n",
    "for i, d in enumerate(docs, 1):\n",
    "   print(f\"Chunk {i}: {d.page_content[:60]}... | Metadata: {d.metadata}\")"
   ]
  },
  {
   "cell_type": "code",
   "execution_count": 14,
   "id": "843e9752",
   "metadata": {},
   "outputs": [],
   "source": [
    "# Local embedding model\n",
    "embeddings = HuggingFaceEmbeddings(model_name=\"all-MiniLM-L6-v2\")"
   ]
  },
  {
   "cell_type": "code",
   "execution_count": 15,
   "id": "507175c1",
   "metadata": {},
   "outputs": [],
   "source": [
    "# Database\n",
    "db = FAISS.from_documents(docs, embeddings)"
   ]
  },
  {
   "cell_type": "code",
   "execution_count": 22,
   "id": "44c568fa",
   "metadata": {},
   "outputs": [
    {
     "name": "stdout",
     "output_type": "stream",
     "text": [
      "Ämnet  2,2-bis(4-hydroxifenyl)propan \n",
      "(CAS-nr  0000080-05-7),  vanligen  kallat  bisfenol  A,  används  vid\n",
      "(3) Opinion of the Scientific Committee on Food on Bisphenol A (SCF/CS/PM/3936 Final). \n",
      "(4) The EFSA Journal, nr 428, s. 1, 2006. \n",
      "(5) The EFSA Journal, nr 759, s. 1, 2008.\n",
      "migration  på  0,6  mg  bisfenol  A  per  kg  livsmedel  (mg/kg)  baserat  på  en  föregående  utvärdering  av  vetenskapliga\n",
      "Efter  offentliggörandet  av  myndighetens  vetenskapliga  yttrande  om  bisfenol  A  2011  konstaterade  myndigheten\n",
      "2011  (7).  I  enlighet  med  försiktighetsprincipen  gäller  ett  förbud  mot  användning  av  bisfenol  A vid  tillverkning  av \n",
      "nappflaskor av polykarbonat  för  spädbarn.\n",
      "de  vetenskapliga  uppgifterna  och  uppdaterade  sitt  yttrande  om  bisfenol  A  2006  (4),  2008  (5),  2010  (6)  och\n",
      "betydelsen \n",
      "exponeringsvägar  också  bör \n",
      "undersökas.  Myndigheten  beslutade  att  genomföra  en  fullständig  omprövning  av  bisfenol  A  utifrån  de  senaste\n",
      "om  användning  av  bisfenol  A  i  lack  och  ytskikt  avsedda  att  komma  i  kontakt  med  livsmedel  och\n",
      "livsmedel  och  för  enzymer,  aromer  och  processhjälpmedel  (CEF)  att  avge  ett  vetenskapligt  yttrande  om  riskerna \n",
      "för  folkhälsan i  samband  med  förekomst  av bisfenol  A i livsmedel.\n",
      "produkter  som  de  kommer  i  kontakt  med,  vilket  leder  till  att  konsumenter  av  dessa  livsmedel  exponeras  för \n",
      "bisfenol  A.\n"
     ]
    }
   ],
   "source": [
    "# 5. Given a query, retrieve the most relevant chunk(s) and appropriately prompt your LLM\n",
    "\n",
    "query = \"Bisfenol A\"\n",
    "results = db.similarity_search(query, k=10)\n",
    "\n",
    "for r in results:\n",
    "    print(r.page_content)"
   ]
  },
  {
   "cell_type": "markdown",
   "id": "a1b80b70",
   "metadata": {},
   "source": [
    "GUI"
   ]
  },
  {
   "cell_type": "code",
   "execution_count": null,
   "id": "1288cdfc",
   "metadata": {},
   "outputs": [],
   "source": [
    "import gradio as gr"
   ]
  },
  {
   "cell_type": "markdown",
   "id": "7863a040",
   "metadata": {},
   "source": []
  }
 ],
 "metadata": {
  "kernelspec": {
   "display_name": ".venv",
   "language": "python",
   "name": "python3"
  },
  "language_info": {
   "codemirror_mode": {
    "name": "ipython",
    "version": 3
   },
   "file_extension": ".py",
   "mimetype": "text/x-python",
   "name": "python",
   "nbconvert_exporter": "python",
   "pygments_lexer": "ipython3",
   "version": "3.13.7"
  }
 },
 "nbformat": 4,
 "nbformat_minor": 5
}
